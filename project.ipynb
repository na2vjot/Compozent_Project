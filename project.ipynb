{
 "cells": [
  {
   "cell_type": "code",
   "execution_count": 1,
   "metadata": {},
   "outputs": [],
   "source": [
    "import numpy as np \n",
    "import pandas as pd"
   ]
  },
  {
   "cell_type": "code",
   "execution_count": 175,
   "metadata": {},
   "outputs": [
    {
     "data": {
      "text/html": [
       "<div>\n",
       "<style scoped>\n",
       "    .dataframe tbody tr th:only-of-type {\n",
       "        vertical-align: middle;\n",
       "    }\n",
       "\n",
       "    .dataframe tbody tr th {\n",
       "        vertical-align: top;\n",
       "    }\n",
       "\n",
       "    .dataframe thead th {\n",
       "        text-align: right;\n",
       "    }\n",
       "</style>\n",
       "<table border=\"1\" class=\"dataframe\">\n",
       "  <thead>\n",
       "    <tr style=\"text-align: right;\">\n",
       "      <th></th>\n",
       "      <th>City</th>\n",
       "      <th>Date</th>\n",
       "      <th>PM2.5</th>\n",
       "      <th>PM10</th>\n",
       "      <th>NO</th>\n",
       "      <th>NO2</th>\n",
       "      <th>NOx</th>\n",
       "      <th>NH3</th>\n",
       "      <th>CO</th>\n",
       "      <th>SO2</th>\n",
       "      <th>O3</th>\n",
       "      <th>Benzene</th>\n",
       "      <th>Toluene</th>\n",
       "      <th>Xylene</th>\n",
       "      <th>AQI</th>\n",
       "      <th>AQI_Bucket</th>\n",
       "    </tr>\n",
       "  </thead>\n",
       "  <tbody>\n",
       "    <tr>\n",
       "      <th>0</th>\n",
       "      <td>Ahmedabad</td>\n",
       "      <td>2015-01-01</td>\n",
       "      <td>NaN</td>\n",
       "      <td>NaN</td>\n",
       "      <td>0.92</td>\n",
       "      <td>18.22</td>\n",
       "      <td>17.15</td>\n",
       "      <td>NaN</td>\n",
       "      <td>0.92</td>\n",
       "      <td>27.64</td>\n",
       "      <td>133.36</td>\n",
       "      <td>0.00</td>\n",
       "      <td>0.02</td>\n",
       "      <td>0.00</td>\n",
       "      <td>NaN</td>\n",
       "      <td>NaN</td>\n",
       "    </tr>\n",
       "    <tr>\n",
       "      <th>1</th>\n",
       "      <td>Ahmedabad</td>\n",
       "      <td>2015-01-02</td>\n",
       "      <td>NaN</td>\n",
       "      <td>NaN</td>\n",
       "      <td>0.97</td>\n",
       "      <td>15.69</td>\n",
       "      <td>16.46</td>\n",
       "      <td>NaN</td>\n",
       "      <td>0.97</td>\n",
       "      <td>24.55</td>\n",
       "      <td>34.06</td>\n",
       "      <td>3.68</td>\n",
       "      <td>5.50</td>\n",
       "      <td>3.77</td>\n",
       "      <td>NaN</td>\n",
       "      <td>NaN</td>\n",
       "    </tr>\n",
       "    <tr>\n",
       "      <th>2</th>\n",
       "      <td>Ahmedabad</td>\n",
       "      <td>2015-01-03</td>\n",
       "      <td>NaN</td>\n",
       "      <td>NaN</td>\n",
       "      <td>17.40</td>\n",
       "      <td>19.30</td>\n",
       "      <td>29.70</td>\n",
       "      <td>NaN</td>\n",
       "      <td>17.40</td>\n",
       "      <td>29.07</td>\n",
       "      <td>30.70</td>\n",
       "      <td>6.80</td>\n",
       "      <td>16.40</td>\n",
       "      <td>2.25</td>\n",
       "      <td>NaN</td>\n",
       "      <td>NaN</td>\n",
       "    </tr>\n",
       "    <tr>\n",
       "      <th>3</th>\n",
       "      <td>Ahmedabad</td>\n",
       "      <td>2015-01-04</td>\n",
       "      <td>NaN</td>\n",
       "      <td>NaN</td>\n",
       "      <td>1.70</td>\n",
       "      <td>18.48</td>\n",
       "      <td>17.97</td>\n",
       "      <td>NaN</td>\n",
       "      <td>1.70</td>\n",
       "      <td>18.59</td>\n",
       "      <td>36.08</td>\n",
       "      <td>4.43</td>\n",
       "      <td>10.14</td>\n",
       "      <td>1.00</td>\n",
       "      <td>NaN</td>\n",
       "      <td>NaN</td>\n",
       "    </tr>\n",
       "    <tr>\n",
       "      <th>4</th>\n",
       "      <td>Ahmedabad</td>\n",
       "      <td>2015-01-05</td>\n",
       "      <td>NaN</td>\n",
       "      <td>NaN</td>\n",
       "      <td>22.10</td>\n",
       "      <td>21.42</td>\n",
       "      <td>37.76</td>\n",
       "      <td>NaN</td>\n",
       "      <td>22.10</td>\n",
       "      <td>39.33</td>\n",
       "      <td>39.31</td>\n",
       "      <td>7.01</td>\n",
       "      <td>18.89</td>\n",
       "      <td>2.78</td>\n",
       "      <td>NaN</td>\n",
       "      <td>NaN</td>\n",
       "    </tr>\n",
       "  </tbody>\n",
       "</table>\n",
       "</div>"
      ],
      "text/plain": [
       "        City        Date  PM2.5  PM10     NO    NO2    NOx  NH3     CO    SO2  \\\n",
       "0  Ahmedabad  2015-01-01    NaN   NaN   0.92  18.22  17.15  NaN   0.92  27.64   \n",
       "1  Ahmedabad  2015-01-02    NaN   NaN   0.97  15.69  16.46  NaN   0.97  24.55   \n",
       "2  Ahmedabad  2015-01-03    NaN   NaN  17.40  19.30  29.70  NaN  17.40  29.07   \n",
       "3  Ahmedabad  2015-01-04    NaN   NaN   1.70  18.48  17.97  NaN   1.70  18.59   \n",
       "4  Ahmedabad  2015-01-05    NaN   NaN  22.10  21.42  37.76  NaN  22.10  39.33   \n",
       "\n",
       "       O3  Benzene  Toluene  Xylene  AQI AQI_Bucket  \n",
       "0  133.36     0.00     0.02    0.00  NaN        NaN  \n",
       "1   34.06     3.68     5.50    3.77  NaN        NaN  \n",
       "2   30.70     6.80    16.40    2.25  NaN        NaN  \n",
       "3   36.08     4.43    10.14    1.00  NaN        NaN  \n",
       "4   39.31     7.01    18.89    2.78  NaN        NaN  "
      ]
     },
     "execution_count": 175,
     "metadata": {},
     "output_type": "execute_result"
    }
   ],
   "source": [
    "df = pd.read_csv(\"city_day.csv\")\n",
    "df.head()"
   ]
  },
  {
   "cell_type": "code",
   "execution_count": 176,
   "metadata": {},
   "outputs": [
    {
     "data": {
      "text/plain": [
       "(29531, 16)"
      ]
     },
     "execution_count": 176,
     "metadata": {},
     "output_type": "execute_result"
    }
   ],
   "source": [
    "df.shape"
   ]
  },
  {
   "cell_type": "code",
   "execution_count": 177,
   "metadata": {},
   "outputs": [],
   "source": [
    "mumbai= df[df['City'] == 'Mumbai']"
   ]
  },
  {
   "cell_type": "code",
   "execution_count": 178,
   "metadata": {},
   "outputs": [
    {
     "data": {
      "text/html": [
       "<div>\n",
       "<style scoped>\n",
       "    .dataframe tbody tr th:only-of-type {\n",
       "        vertical-align: middle;\n",
       "    }\n",
       "\n",
       "    .dataframe tbody tr th {\n",
       "        vertical-align: top;\n",
       "    }\n",
       "\n",
       "    .dataframe thead th {\n",
       "        text-align: right;\n",
       "    }\n",
       "</style>\n",
       "<table border=\"1\" class=\"dataframe\">\n",
       "  <thead>\n",
       "    <tr style=\"text-align: right;\">\n",
       "      <th></th>\n",
       "      <th>City</th>\n",
       "      <th>Date</th>\n",
       "      <th>PM2.5</th>\n",
       "      <th>PM10</th>\n",
       "      <th>NO</th>\n",
       "      <th>NO2</th>\n",
       "      <th>NOx</th>\n",
       "      <th>NH3</th>\n",
       "      <th>CO</th>\n",
       "      <th>SO2</th>\n",
       "      <th>O3</th>\n",
       "      <th>Benzene</th>\n",
       "      <th>Toluene</th>\n",
       "      <th>Xylene</th>\n",
       "      <th>AQI</th>\n",
       "      <th>AQI_Bucket</th>\n",
       "    </tr>\n",
       "  </thead>\n",
       "  <tbody>\n",
       "    <tr>\n",
       "      <th>21855</th>\n",
       "      <td>Mumbai</td>\n",
       "      <td>2015-01-01</td>\n",
       "      <td>NaN</td>\n",
       "      <td>NaN</td>\n",
       "      <td>NaN</td>\n",
       "      <td>NaN</td>\n",
       "      <td>27.38</td>\n",
       "      <td>NaN</td>\n",
       "      <td>0.0</td>\n",
       "      <td>NaN</td>\n",
       "      <td>NaN</td>\n",
       "      <td>0.0</td>\n",
       "      <td>0.0</td>\n",
       "      <td>0.0</td>\n",
       "      <td>NaN</td>\n",
       "      <td>NaN</td>\n",
       "    </tr>\n",
       "    <tr>\n",
       "      <th>21856</th>\n",
       "      <td>Mumbai</td>\n",
       "      <td>2015-01-02</td>\n",
       "      <td>NaN</td>\n",
       "      <td>NaN</td>\n",
       "      <td>NaN</td>\n",
       "      <td>NaN</td>\n",
       "      <td>26.20</td>\n",
       "      <td>NaN</td>\n",
       "      <td>0.0</td>\n",
       "      <td>NaN</td>\n",
       "      <td>NaN</td>\n",
       "      <td>0.0</td>\n",
       "      <td>0.0</td>\n",
       "      <td>0.0</td>\n",
       "      <td>NaN</td>\n",
       "      <td>NaN</td>\n",
       "    </tr>\n",
       "    <tr>\n",
       "      <th>21857</th>\n",
       "      <td>Mumbai</td>\n",
       "      <td>2015-01-03</td>\n",
       "      <td>NaN</td>\n",
       "      <td>NaN</td>\n",
       "      <td>NaN</td>\n",
       "      <td>NaN</td>\n",
       "      <td>26.04</td>\n",
       "      <td>NaN</td>\n",
       "      <td>0.0</td>\n",
       "      <td>NaN</td>\n",
       "      <td>NaN</td>\n",
       "      <td>0.0</td>\n",
       "      <td>0.0</td>\n",
       "      <td>0.0</td>\n",
       "      <td>NaN</td>\n",
       "      <td>NaN</td>\n",
       "    </tr>\n",
       "    <tr>\n",
       "      <th>21858</th>\n",
       "      <td>Mumbai</td>\n",
       "      <td>2015-01-04</td>\n",
       "      <td>NaN</td>\n",
       "      <td>NaN</td>\n",
       "      <td>NaN</td>\n",
       "      <td>NaN</td>\n",
       "      <td>25.97</td>\n",
       "      <td>NaN</td>\n",
       "      <td>0.0</td>\n",
       "      <td>NaN</td>\n",
       "      <td>NaN</td>\n",
       "      <td>0.0</td>\n",
       "      <td>0.0</td>\n",
       "      <td>0.0</td>\n",
       "      <td>NaN</td>\n",
       "      <td>NaN</td>\n",
       "    </tr>\n",
       "    <tr>\n",
       "      <th>21859</th>\n",
       "      <td>Mumbai</td>\n",
       "      <td>2015-01-05</td>\n",
       "      <td>NaN</td>\n",
       "      <td>NaN</td>\n",
       "      <td>NaN</td>\n",
       "      <td>NaN</td>\n",
       "      <td>25.18</td>\n",
       "      <td>NaN</td>\n",
       "      <td>0.0</td>\n",
       "      <td>NaN</td>\n",
       "      <td>NaN</td>\n",
       "      <td>0.0</td>\n",
       "      <td>0.0</td>\n",
       "      <td>0.0</td>\n",
       "      <td>NaN</td>\n",
       "      <td>NaN</td>\n",
       "    </tr>\n",
       "  </tbody>\n",
       "</table>\n",
       "</div>"
      ],
      "text/plain": [
       "         City        Date  PM2.5  PM10  NO  NO2    NOx  NH3   CO  SO2  O3  \\\n",
       "21855  Mumbai  2015-01-01    NaN   NaN NaN  NaN  27.38  NaN  0.0  NaN NaN   \n",
       "21856  Mumbai  2015-01-02    NaN   NaN NaN  NaN  26.20  NaN  0.0  NaN NaN   \n",
       "21857  Mumbai  2015-01-03    NaN   NaN NaN  NaN  26.04  NaN  0.0  NaN NaN   \n",
       "21858  Mumbai  2015-01-04    NaN   NaN NaN  NaN  25.97  NaN  0.0  NaN NaN   \n",
       "21859  Mumbai  2015-01-05    NaN   NaN NaN  NaN  25.18  NaN  0.0  NaN NaN   \n",
       "\n",
       "       Benzene  Toluene  Xylene  AQI AQI_Bucket  \n",
       "21855      0.0      0.0     0.0  NaN        NaN  \n",
       "21856      0.0      0.0     0.0  NaN        NaN  \n",
       "21857      0.0      0.0     0.0  NaN        NaN  \n",
       "21858      0.0      0.0     0.0  NaN        NaN  \n",
       "21859      0.0      0.0     0.0  NaN        NaN  "
      ]
     },
     "execution_count": 178,
     "metadata": {},
     "output_type": "execute_result"
    }
   ],
   "source": [
    "mumbai.head()"
   ]
  },
  {
   "cell_type": "code",
   "execution_count": 179,
   "metadata": {},
   "outputs": [
    {
     "data": {
      "text/plain": [
       "(2009, 16)"
      ]
     },
     "execution_count": 179,
     "metadata": {},
     "output_type": "execute_result"
    }
   ],
   "source": [
    "mumbai.shape"
   ]
  },
  {
   "cell_type": "code",
   "execution_count": 180,
   "metadata": {},
   "outputs": [
    {
     "data": {
      "text/plain": [
       "City             0\n",
       "Date             0\n",
       "PM2.5         1225\n",
       "PM10          1246\n",
       "NO            1242\n",
       "NO2           1253\n",
       "NOx            499\n",
       "NH3           1614\n",
       "CO              25\n",
       "SO2           1220\n",
       "O3            1212\n",
       "Benzene        210\n",
       "Toluene        993\n",
       "Xylene         994\n",
       "AQI           1234\n",
       "AQI_Bucket    1234\n",
       "dtype: int64"
      ]
     },
     "execution_count": 180,
     "metadata": {},
     "output_type": "execute_result"
    }
   ],
   "source": [
    "mumbai.isnull().sum()"
   ]
  },
  {
   "cell_type": "code",
   "execution_count": 181,
   "metadata": {},
   "outputs": [
    {
     "name": "stdout",
     "output_type": "stream",
     "text": [
      "mode: 0    12.33\n",
      "1    12.96\n",
      "2    14.62\n",
      "3    18.67\n",
      "4    19.26\n",
      "Name: PM2.5, dtype: float64\n",
      "mean: 35.198392857142856\n",
      "median: 23.744999999999997\n"
     ]
    }
   ],
   "source": [
    "mumbai = mumbai.drop('NH3', axis=1)\n",
    "\n",
    "\n",
    "print('mode:',mumbai['PM2.5'].mode())\n",
    "print('mean:',mumbai['PM2.5'].mean())\n",
    "print('median:',mumbai['PM2.5'].median())"
   ]
  },
  {
   "cell_type": "code",
   "execution_count": 182,
   "metadata": {},
   "outputs": [],
   "source": [
    "#df['column_name'].fillna(df['column_name'].mean(), inplace=True)\n",
    "mumbai['PM2.5']=mumbai['PM2.5'].fillna(mumbai['PM2.5'].median())"
   ]
  },
  {
   "cell_type": "code",
   "execution_count": 183,
   "metadata": {},
   "outputs": [
    {
     "data": {
      "text/plain": [
       "0"
      ]
     },
     "execution_count": 183,
     "metadata": {},
     "output_type": "execute_result"
    }
   ],
   "source": [
    "mumbai['PM2.5'].isnull().sum()"
   ]
  },
  {
   "cell_type": "code",
   "execution_count": 184,
   "metadata": {},
   "outputs": [
    {
     "name": "stdout",
     "output_type": "stream",
     "text": [
      "mode: 0      42.66\n",
      "1      44.55\n",
      "2      45.85\n",
      "3      46.59\n",
      "4      52.48\n",
      "5      52.92\n",
      "6      54.45\n",
      "7      55.60\n",
      "8      67.13\n",
      "9      67.46\n",
      "10     67.74\n",
      "11     75.24\n",
      "12     82.21\n",
      "13     89.58\n",
      "14    108.48\n",
      "15    158.76\n",
      "Name: PM10, dtype: float64\n",
      "mean: 96.74505897771952\n",
      "median: 77.88\n"
     ]
    }
   ],
   "source": [
    "print('mode:',mumbai['PM10'].mode())\n",
    "print('mean:',mumbai['PM10'].mean())\n",
    "print('median:',mumbai['PM10'].median())"
   ]
  },
  {
   "cell_type": "code",
   "execution_count": 185,
   "metadata": {},
   "outputs": [],
   "source": [
    "mumbai['PM10']=mumbai['PM10'].fillna(mumbai['PM10'].median())\n"
   ]
  },
  {
   "cell_type": "code",
   "execution_count": 186,
   "metadata": {},
   "outputs": [
    {
     "name": "stdout",
     "output_type": "stream",
     "text": [
      "mode: 0    22.59\n",
      "Name: NO, dtype: float64\n",
      "mean: 31.01413298565841\n",
      "median: 25.34\n"
     ]
    }
   ],
   "source": [
    "print('mode:',mumbai['NO'].mode())\n",
    "print('mean:',mumbai['NO'].mean())\n",
    "print('median:',mumbai['NO'].median())"
   ]
  },
  {
   "cell_type": "code",
   "execution_count": 187,
   "metadata": {},
   "outputs": [],
   "source": [
    "mumbai['NO']=mumbai['NO'].fillna(mumbai['NO'].median())"
   ]
  },
  {
   "cell_type": "code",
   "execution_count": 188,
   "metadata": {},
   "outputs": [
    {
     "name": "stdout",
     "output_type": "stream",
     "text": [
      "mode: 0     9.80\n",
      "1     9.91\n",
      "2    11.30\n",
      "3    15.53\n",
      "4    16.35\n",
      "Name: NO2, dtype: float64\n",
      "mean: 25.55521164021164\n",
      "median: 21.46\n"
     ]
    }
   ],
   "source": [
    "print('mode:',mumbai['NO2'].mode())\n",
    "print('mean:',mumbai['NO2'].mean())\n",
    "print('median:',mumbai['NO2'].median())"
   ]
  },
  {
   "cell_type": "code",
   "execution_count": 189,
   "metadata": {},
   "outputs": [],
   "source": [
    "mumbai['NO2']=mumbai['NO2'].fillna(mumbai['NO2'].median())"
   ]
  },
  {
   "cell_type": "code",
   "execution_count": 190,
   "metadata": {},
   "outputs": [
    {
     "name": "stdout",
     "output_type": "stream",
     "text": [
      "mode: 0    18.87\n",
      "1    19.25\n",
      "2    22.96\n",
      "3    23.00\n",
      "4    23.02\n",
      "5    23.05\n",
      "6    26.17\n",
      "7    27.50\n",
      "8    37.14\n",
      "9    57.87\n",
      "Name: NOx, dtype: float64\n",
      "mean: 55.03879470198676\n",
      "median: 41.879999999999995\n"
     ]
    }
   ],
   "source": [
    "print('mode:',mumbai['NOx'].mode())\n",
    "print('mean:',mumbai['NOx'].mean())\n",
    "print('median:',mumbai['NOx'].median())\n",
    "\n",
    "mumbai['NOx']=mumbai['NOx'].fillna(mumbai['NOx'].median())"
   ]
  },
  {
   "cell_type": "code",
   "execution_count": 191,
   "metadata": {},
   "outputs": [
    {
     "name": "stdout",
     "output_type": "stream",
     "text": [
      "mode: 0    0.0\n",
      "Name: CO, dtype: float64\n",
      "mean: 0.5683618951612904\n",
      "median: 0.0\n"
     ]
    }
   ],
   "source": [
    "print('mode:',mumbai['CO'].mode())\n",
    "print('mean:',mumbai['CO'].mean())\n",
    "print('median:',mumbai['CO'].median())\n",
    "\n",
    "mumbai['CO']=mumbai['CO'].fillna(mumbai['CO'].mean())"
   ]
  },
  {
   "cell_type": "code",
   "execution_count": 192,
   "metadata": {},
   "outputs": [
    {
     "name": "stdout",
     "output_type": "stream",
     "text": [
      "mode: 0     8.57\n",
      "1     8.75\n",
      "2     9.46\n",
      "3    11.08\n",
      "4    11.77\n",
      "5    12.06\n",
      "Name: SO2, dtype: float64\n",
      "mean: 15.197515842839037\n",
      "median: 12.67\n"
     ]
    }
   ],
   "source": [
    "print('mode:',mumbai['SO2'].mode())\n",
    "print('mean:',mumbai['SO2'].mean())\n",
    "print('median:',mumbai['SO2'].median())\n",
    "\n",
    "mumbai['SO2']=mumbai['SO2'].fillna(mumbai['SO2'].median())"
   ]
  },
  {
   "cell_type": "code",
   "execution_count": 193,
   "metadata": {},
   "outputs": [
    {
     "name": "stdout",
     "output_type": "stream",
     "text": [
      "mode: 0    12.88\n",
      "1    15.25\n",
      "2    45.84\n",
      "Name: O3, dtype: float64\n",
      "mean: 33.058946047678795\n",
      "median: 29.62\n"
     ]
    }
   ],
   "source": [
    "print('mode:',mumbai['O3'].mode())\n",
    "print('mean:',mumbai['O3'].mean())\n",
    "print('median:',mumbai['O3'].median())\n",
    "\n",
    "mumbai['O3']=mumbai['O3'].fillna(mumbai['O3'].mean())"
   ]
  },
  {
   "cell_type": "code",
   "execution_count": 194,
   "metadata": {},
   "outputs": [
    {
     "name": "stdout",
     "output_type": "stream",
     "text": [
      "mode: 0    0.0\n",
      "Name: Benzene, dtype: float64\n",
      "mean: 1.0986047804335741\n",
      "median: 0.0\n"
     ]
    }
   ],
   "source": [
    "print('mode:',mumbai['Benzene'].mode())\n",
    "print('mean:',mumbai['Benzene'].mean())\n",
    "print('median:',mumbai['Benzene'].median())\n",
    "\n",
    "mumbai['Benzene']=mumbai['Benzene'].fillna(mumbai['Benzene'].mean())"
   ]
  },
  {
   "cell_type": "code",
   "execution_count": 195,
   "metadata": {},
   "outputs": [
    {
     "name": "stdout",
     "output_type": "stream",
     "text": [
      "mode: 0    0.0\n",
      "Name: Toluene, dtype: float64\n",
      "mean: 0.013454724409448816\n",
      "median: 0.0\n"
     ]
    }
   ],
   "source": [
    "print('mode:',mumbai['Toluene'].mode())\n",
    "print('mean:',mumbai['Toluene'].mean())\n",
    "print('median:',mumbai['Toluene'].median())\n",
    "\n",
    "mumbai['Toluene']=mumbai['Toluene'].fillna(mumbai['Toluene'].mean())"
   ]
  },
  {
   "cell_type": "code",
   "execution_count": 196,
   "metadata": {},
   "outputs": [
    {
     "name": "stdout",
     "output_type": "stream",
     "text": [
      "mode: 0    0.0\n",
      "Name: Xylene, dtype: float64\n",
      "mean: 0.008009852216748768\n",
      "median: 0.0\n"
     ]
    }
   ],
   "source": [
    "print('mode:',mumbai['Xylene'].mode())\n",
    "print('mean:',mumbai['Xylene'].mean())\n",
    "print('median:',mumbai['Xylene'].median())\n",
    "\n",
    "mumbai['Xylene']=mumbai['Xylene'].fillna(mumbai['Xylene'].mean())"
   ]
  },
  {
   "cell_type": "code",
   "execution_count": 197,
   "metadata": {},
   "outputs": [
    {
     "name": "stdout",
     "output_type": "stream",
     "text": [
      "mode: 0    64.0\n",
      "1    67.0\n",
      "2    90.0\n",
      "Name: AQI, dtype: float64\n",
      "mean: 105.35225806451614\n",
      "median: 91.0\n"
     ]
    }
   ],
   "source": [
    "print('mode:',mumbai['AQI'].mode())\n",
    "print('mean:',mumbai['AQI'].mean())\n",
    "print('median:',mumbai['AQI'].median())\n",
    "\n",
    "mumbai['AQI']=mumbai['AQI'].fillna(mumbai['AQI'].median())"
   ]
  },
  {
   "cell_type": "code",
   "execution_count": 198,
   "metadata": {},
   "outputs": [
    {
     "data": {
      "text/plain": [
       "City             0\n",
       "Date             0\n",
       "PM2.5            0\n",
       "PM10             0\n",
       "NO               0\n",
       "NO2              0\n",
       "NOx              0\n",
       "CO               0\n",
       "SO2              0\n",
       "O3               0\n",
       "Benzene          0\n",
       "Toluene          0\n",
       "Xylene           0\n",
       "AQI              0\n",
       "AQI_Bucket    1234\n",
       "dtype: int64"
      ]
     },
     "execution_count": 198,
     "metadata": {},
     "output_type": "execute_result"
    }
   ],
   "source": [
    "mumbai.isnull().sum()"
   ]
  },
  {
   "cell_type": "code",
   "execution_count": 199,
   "metadata": {},
   "outputs": [
    {
     "name": "stdout",
     "output_type": "stream",
     "text": [
      "        AQI AQI_Bucket\n",
      "21855  91.0   Moderate\n",
      "21856  91.0   Moderate\n",
      "21857  91.0   Moderate\n",
      "21858  91.0   Moderate\n",
      "21859  91.0   Moderate\n",
      "Remaining null values in AQI_Bucket: 0\n"
     ]
    }
   ],
   "source": [
    "def get_aqi_bucket(aqi):\n",
    "    if pd.isnull(aqi):  # Handle missing AQI values if necessary\n",
    "        return None\n",
    "    elif aqi <= 50:\n",
    "        return 'Good'\n",
    "    elif aqi <= 100:\n",
    "        return 'Moderate'\n",
    "    elif aqi <= 150:\n",
    "        return 'Unhealthy for Sensitive Groups'\n",
    "    elif aqi <= 200:\n",
    "        return 'Unhealthy'\n",
    "    elif aqi <= 300:\n",
    "        return 'Very Unhealthy'\n",
    "    else:\n",
    "        return 'Hazardous'\n",
    "\n",
    "# Fill missing values in AQI_Bucket based on AQI values\n",
    "mumbai['AQI_Bucket'] = mumbai['AQI_Bucket'].fillna(\n",
    "    mumbai['AQI'].apply(get_aqi_bucket)\n",
    ")\n",
    "\n",
    "# Display the updated DataFrame and check for null values\n",
    "print(mumbai[['AQI', 'AQI_Bucket']].head())\n",
    "print(\"Remaining null values in AQI_Bucket:\", mumbai['AQI_Bucket'].isnull().sum())"
   ]
  },
  {
   "cell_type": "code",
   "execution_count": 200,
   "metadata": {},
   "outputs": [],
   "source": [
    "from sklearn.preprocessing import LabelEncoder\n",
    "Label=LabelEncoder()\n",
    "\n",
    "# Encode the 'City' column\n",
    "mumbai['City'] = Label.fit_transform(mumbai['City'])\n",
    "mumbai['AQI_Bucket']=Label.fit_transform(mumbai['AQI_Bucket'])\n"
   ]
  },
  {
   "cell_type": "code",
   "execution_count": 201,
   "metadata": {},
   "outputs": [],
   "source": [
    "mumbai['Date'] = pd.to_datetime(mumbai['Date'])  # Convert to datetime\n",
    "\n",
    "# Extract year, month, and day as separate columns\n",
    "mumbai['Year'] = mumbai['Date'].dt.year\n",
    "mumbai['Month'] = mumbai['Date'].dt.month\n",
    "mumbai['Day'] = mumbai['Date'].dt.day\n",
    "\n",
    "# Drop the original 'Date' column\n",
    "mumbai = mumbai.drop('Date', axis=1)\n"
   ]
  },
  {
   "cell_type": "code",
   "execution_count": 202,
   "metadata": {},
   "outputs": [
    {
     "data": {
      "text/html": [
       "<div>\n",
       "<style scoped>\n",
       "    .dataframe tbody tr th:only-of-type {\n",
       "        vertical-align: middle;\n",
       "    }\n",
       "\n",
       "    .dataframe tbody tr th {\n",
       "        vertical-align: top;\n",
       "    }\n",
       "\n",
       "    .dataframe thead th {\n",
       "        text-align: right;\n",
       "    }\n",
       "</style>\n",
       "<table border=\"1\" class=\"dataframe\">\n",
       "  <thead>\n",
       "    <tr style=\"text-align: right;\">\n",
       "      <th></th>\n",
       "      <th>City</th>\n",
       "      <th>PM2.5</th>\n",
       "      <th>PM10</th>\n",
       "      <th>NO</th>\n",
       "      <th>NO2</th>\n",
       "      <th>NOx</th>\n",
       "      <th>CO</th>\n",
       "      <th>SO2</th>\n",
       "      <th>O3</th>\n",
       "      <th>Benzene</th>\n",
       "      <th>Toluene</th>\n",
       "      <th>Xylene</th>\n",
       "      <th>AQI</th>\n",
       "      <th>AQI_Bucket</th>\n",
       "      <th>Year</th>\n",
       "      <th>Month</th>\n",
       "      <th>Day</th>\n",
       "    </tr>\n",
       "  </thead>\n",
       "  <tbody>\n",
       "    <tr>\n",
       "      <th>21855</th>\n",
       "      <td>0</td>\n",
       "      <td>23.745</td>\n",
       "      <td>77.88</td>\n",
       "      <td>25.34</td>\n",
       "      <td>21.46</td>\n",
       "      <td>27.38</td>\n",
       "      <td>0.0</td>\n",
       "      <td>12.67</td>\n",
       "      <td>33.058946</td>\n",
       "      <td>0.0</td>\n",
       "      <td>0.0</td>\n",
       "      <td>0.0</td>\n",
       "      <td>91.0</td>\n",
       "      <td>1</td>\n",
       "      <td>2015</td>\n",
       "      <td>1</td>\n",
       "      <td>1</td>\n",
       "    </tr>\n",
       "    <tr>\n",
       "      <th>21856</th>\n",
       "      <td>0</td>\n",
       "      <td>23.745</td>\n",
       "      <td>77.88</td>\n",
       "      <td>25.34</td>\n",
       "      <td>21.46</td>\n",
       "      <td>26.20</td>\n",
       "      <td>0.0</td>\n",
       "      <td>12.67</td>\n",
       "      <td>33.058946</td>\n",
       "      <td>0.0</td>\n",
       "      <td>0.0</td>\n",
       "      <td>0.0</td>\n",
       "      <td>91.0</td>\n",
       "      <td>1</td>\n",
       "      <td>2015</td>\n",
       "      <td>1</td>\n",
       "      <td>2</td>\n",
       "    </tr>\n",
       "    <tr>\n",
       "      <th>21857</th>\n",
       "      <td>0</td>\n",
       "      <td>23.745</td>\n",
       "      <td>77.88</td>\n",
       "      <td>25.34</td>\n",
       "      <td>21.46</td>\n",
       "      <td>26.04</td>\n",
       "      <td>0.0</td>\n",
       "      <td>12.67</td>\n",
       "      <td>33.058946</td>\n",
       "      <td>0.0</td>\n",
       "      <td>0.0</td>\n",
       "      <td>0.0</td>\n",
       "      <td>91.0</td>\n",
       "      <td>1</td>\n",
       "      <td>2015</td>\n",
       "      <td>1</td>\n",
       "      <td>3</td>\n",
       "    </tr>\n",
       "    <tr>\n",
       "      <th>21858</th>\n",
       "      <td>0</td>\n",
       "      <td>23.745</td>\n",
       "      <td>77.88</td>\n",
       "      <td>25.34</td>\n",
       "      <td>21.46</td>\n",
       "      <td>25.97</td>\n",
       "      <td>0.0</td>\n",
       "      <td>12.67</td>\n",
       "      <td>33.058946</td>\n",
       "      <td>0.0</td>\n",
       "      <td>0.0</td>\n",
       "      <td>0.0</td>\n",
       "      <td>91.0</td>\n",
       "      <td>1</td>\n",
       "      <td>2015</td>\n",
       "      <td>1</td>\n",
       "      <td>4</td>\n",
       "    </tr>\n",
       "    <tr>\n",
       "      <th>21859</th>\n",
       "      <td>0</td>\n",
       "      <td>23.745</td>\n",
       "      <td>77.88</td>\n",
       "      <td>25.34</td>\n",
       "      <td>21.46</td>\n",
       "      <td>25.18</td>\n",
       "      <td>0.0</td>\n",
       "      <td>12.67</td>\n",
       "      <td>33.058946</td>\n",
       "      <td>0.0</td>\n",
       "      <td>0.0</td>\n",
       "      <td>0.0</td>\n",
       "      <td>91.0</td>\n",
       "      <td>1</td>\n",
       "      <td>2015</td>\n",
       "      <td>1</td>\n",
       "      <td>5</td>\n",
       "    </tr>\n",
       "  </tbody>\n",
       "</table>\n",
       "</div>"
      ],
      "text/plain": [
       "       City   PM2.5   PM10     NO    NO2    NOx   CO    SO2         O3  \\\n",
       "21855     0  23.745  77.88  25.34  21.46  27.38  0.0  12.67  33.058946   \n",
       "21856     0  23.745  77.88  25.34  21.46  26.20  0.0  12.67  33.058946   \n",
       "21857     0  23.745  77.88  25.34  21.46  26.04  0.0  12.67  33.058946   \n",
       "21858     0  23.745  77.88  25.34  21.46  25.97  0.0  12.67  33.058946   \n",
       "21859     0  23.745  77.88  25.34  21.46  25.18  0.0  12.67  33.058946   \n",
       "\n",
       "       Benzene  Toluene  Xylene   AQI  AQI_Bucket  Year  Month  Day  \n",
       "21855      0.0      0.0     0.0  91.0           1  2015      1    1  \n",
       "21856      0.0      0.0     0.0  91.0           1  2015      1    2  \n",
       "21857      0.0      0.0     0.0  91.0           1  2015      1    3  \n",
       "21858      0.0      0.0     0.0  91.0           1  2015      1    4  \n",
       "21859      0.0      0.0     0.0  91.0           1  2015      1    5  "
      ]
     },
     "execution_count": 202,
     "metadata": {},
     "output_type": "execute_result"
    }
   ],
   "source": [
    "mumbai.head()"
   ]
  },
  {
   "cell_type": "code",
   "execution_count": 203,
   "metadata": {},
   "outputs": [],
   "source": [
    "from sklearn.model_selection import train_test_split\n",
    "from sklearn.metrics import mean_squared_error, mean_absolute_error\n",
    "import xgboost as xgb"
   ]
  },
  {
   "cell_type": "code",
   "execution_count": 204,
   "metadata": {},
   "outputs": [],
   "source": [
    "# Drop 'AQI' and 'AQI_Bucket' from features (X)\n",
    "X = mumbai.drop(['AQI', 'AQI_Bucket'], axis=1)\n",
    "\n",
    "# Select 'AQI' and 'AQI_Bucket' as target variables (y)\n",
    "y = mumbai[['AQI', 'AQI_Bucket']]\n"
   ]
  },
  {
   "cell_type": "code",
   "execution_count": 205,
   "metadata": {},
   "outputs": [],
   "source": [
    "X_train, X_test, y_train, y_test = train_test_split(X, y, test_size=0.2, random_state=42)\n"
   ]
  },
  {
   "cell_type": "code",
   "execution_count": 206,
   "metadata": {},
   "outputs": [
    {
     "name": "stderr",
     "output_type": "stream",
     "text": [
      "C:\\Users\\DELL\\AppData\\Roaming\\Python\\Python312\\site-packages\\xgboost\\core.py:158: UserWarning: [20:05:43] WARNING: C:\\buildkite-agent\\builds\\buildkite-windows-cpu-autoscaling-group-i-0c55ff5f71b100e98-1\\xgboost\\xgboost-ci-windows\\src\\learner.cc:740: \n",
      "Parameters: { \"n_estimators\" } are not used.\n",
      "\n",
      "  warnings.warn(smsg, UserWarning)\n"
     ]
    }
   ],
   "source": [
    "# Convert data to DMatrix format (optional, but optimized for XGBoost)\n",
    "dtrain = xgb.DMatrix(X_train, label=y_train)\n",
    "dtest = xgb.DMatrix(X_test, label=y_test)\n",
    "\n",
    "# Set hyperparameters\n",
    "params = {\n",
    "    'objective': 'reg:squarederror',  # Regression objective\n",
    "    'max_depth': 6,\n",
    "    'learning_rate': 0.1,\n",
    "    'n_estimators': 100,\n",
    "    'eval_metric': 'rmse'             # Root Mean Squared Error\n",
    "}\n",
    "\n",
    "# Train the model\n",
    "model = xgb.train(params, dtrain, num_boost_round=100)\n"
   ]
  },
  {
   "cell_type": "code",
   "execution_count": 207,
   "metadata": {},
   "outputs": [
    {
     "name": "stdout",
     "output_type": "stream",
     "text": [
      "RMSE: 6.74\n",
      "MAE: 1.89\n"
     ]
    }
   ],
   "source": [
    "# Predict on test data\n",
    "y_pred = model.predict(dtest)\n",
    "\n",
    "# Evaluate the model\n",
    "rmse = np.sqrt(mean_squared_error(y_test, y_pred))\n",
    "mae = mean_absolute_error(y_test, y_pred)\n",
    "\n",
    "print(f\"RMSE: {rmse:.2f}\")\n",
    "print(f\"MAE: {mae:.2f}\")\n"
   ]
  },
  {
   "cell_type": "code",
   "execution_count": 208,
   "metadata": {},
   "outputs": [
    {
     "name": "stdout",
     "output_type": "stream",
     "text": [
      "[[9.28011703e+01 2.93392634e+00]\n",
      " [9.09530869e+01 1.00003052e+00]\n",
      " [9.09668884e+01 9.99761045e-01]\n",
      " [1.03126877e+02 1.45610595e+00]\n",
      " [9.09530869e+01 1.00019348e+00]\n",
      " [9.11324234e+01 9.94530380e-01]\n",
      " [9.11513062e+01 1.38002741e+00]\n",
      " [9.09530869e+01 1.00019348e+00]\n",
      " [9.09921036e+01 9.93222952e-01]\n",
      " [9.09530869e+01 1.00003052e+00]\n",
      " [9.09668884e+01 9.99761045e-01]\n",
      " [1.22545639e+02 9.70975041e-01]\n",
      " [9.10208969e+01 9.93222952e-01]\n",
      " [9.09493332e+01 1.00177026e+00]\n",
      " [9.10057526e+01 1.00003052e+00]\n",
      " [9.10208969e+01 9.93222952e-01]\n",
      " [9.09668884e+01 9.99761045e-01]\n",
      " [9.09530869e+01 1.00003052e+00]\n",
      " [7.82943649e+01 2.16445351e+00]\n",
      " [9.09530869e+01 1.00019348e+00]\n",
      " [9.09668884e+01 9.99598086e-01]\n",
      " [9.10063324e+01 9.99598086e-01]\n",
      " [1.20798561e+02 1.06651866e+00]\n",
      " [9.09530869e+01 1.00019348e+00]\n",
      " [6.37491989e+01 2.93263459e+00]\n",
      " [1.46688904e+02 9.97963786e-01]\n",
      " [6.28860931e+01 3.20132327e+00]\n",
      " [9.17141876e+01 1.15804636e+00]\n",
      " [9.17141876e+01 1.15804636e+00]\n",
      " [1.65972977e+02 9.79161084e-01]\n",
      " [1.47745285e+02 1.10165179e+00]\n",
      " [5.99237442e+01 3.02886629e+00]\n",
      " [9.09668884e+01 9.99761045e-01]\n",
      " [7.90856552e+01 3.00219822e+00]\n",
      " [1.24818985e+02 1.10276020e+00]\n",
      " [9.10250931e+01 9.99761045e-01]\n",
      " [1.35015182e+02 9.33558464e-01]\n",
      " [9.09668884e+01 9.99761045e-01]\n",
      " [9.09530869e+01 1.00003052e+00]\n",
      " [9.09631348e+01 9.99598086e-01]\n",
      " [1.75436356e+02 1.02960241e+00]\n",
      " [9.09493332e+01 1.00003052e+00]\n",
      " [9.09530869e+01 1.00193322e+00]\n",
      " [9.24762497e+01 1.41594458e+00]\n",
      " [9.09530869e+01 1.00019348e+00]\n",
      " [9.10046539e+01 1.00133777e+00]\n",
      " [8.26229324e+01 2.85637951e+00]\n",
      " [9.09668884e+01 9.99761045e-01]\n",
      " [1.04658630e+02 2.17910051e+00]\n",
      " [7.94598389e+01 2.99483037e+00]\n",
      " [1.36770020e+02 1.03727603e+00]\n",
      " [9.09530869e+01 1.00019348e+00]\n",
      " [8.95680389e+01 2.96802258e+00]\n",
      " [9.09530869e+01 1.00003052e+00]\n",
      " [9.64000320e+01 2.55888343e+00]\n",
      " [9.09493332e+01 1.00003052e+00]\n",
      " [9.09530869e+01 1.00193322e+00]\n",
      " [9.10057526e+01 1.00003052e+00]\n",
      " [9.10057526e+01 9.99531806e-01]\n",
      " [7.12615356e+01 2.84828138e+00]\n",
      " [9.09530869e+01 1.00019348e+00]\n",
      " [9.09921036e+01 9.94962811e-01]\n",
      " [9.10277405e+01 9.73726571e-01]\n",
      " [5.05895767e+01 1.27791107e-01]\n",
      " [9.06068039e+01 2.21760321e+00]\n",
      " [9.09668884e+01 9.99761045e-01]\n",
      " [9.10213394e+01 9.99531806e-01]\n",
      " [1.48233032e+02 1.17976224e+00]\n",
      " [9.09668884e+01 9.99761045e-01]\n",
      " [9.10628586e+01 1.00133777e+00]\n",
      " [9.13292007e+01 9.80306983e-01]\n",
      " [5.81810837e+01 3.01019931e+00]\n",
      " [9.10208969e+01 9.93222952e-01]\n",
      " [9.11324234e+01 9.94530380e-01]\n",
      " [9.09493332e+01 1.00003052e+00]\n",
      " [1.37307373e+02 9.82945919e-01]\n",
      " [9.12006683e+01 1.13825727e+00]\n",
      " [9.10063324e+01 9.99598086e-01]\n",
      " [6.45215912e+01 2.97685981e+00]\n",
      " [9.09530869e+01 9.99694765e-01]\n",
      " [1.34037430e+02 9.72810864e-01]\n",
      " [9.10250931e+01 9.99598086e-01]\n",
      " [7.58458099e+01 2.85390759e+00]\n",
      " [9.56609879e+01 1.04642117e+00]\n",
      " [9.09631348e+01 9.99598086e-01]\n",
      " [9.09530869e+01 1.00193322e+00]\n",
      " [9.09956360e+01 1.11394966e+00]\n",
      " [1.52924377e+02 1.02053165e+00]\n",
      " [9.08986588e+01 9.91704226e-01]\n",
      " [1.15534088e+02 9.86652136e-01]\n",
      " [6.40415344e+01 2.93229175e+00]\n",
      " [1.68024139e+02 1.21349084e+00]\n",
      " [9.10057526e+01 1.00003052e+00]\n",
      " [9.09530869e+01 1.00003052e+00]\n",
      " [9.09921036e+01 9.94962811e-01]\n",
      " [9.10922012e+01 9.92790520e-01]\n",
      " [8.98663254e+01 3.02650976e+00]\n",
      " [9.40964661e+01 2.54734206e+00]\n",
      " [7.10787735e+01 2.58440518e+00]\n",
      " [1.43299927e+02 1.03731894e+00]\n",
      " [7.92126541e+01 2.81067944e+00]\n",
      " [1.60666901e+02 1.23162556e+00]\n",
      " [1.08503555e+02 2.54014826e+00]\n",
      " [9.09493332e+01 1.00003052e+00]\n",
      " [6.33357162e+01 2.86986709e+00]\n",
      " [9.10057526e+01 1.00003052e+00]\n",
      " [9.09530869e+01 1.00003052e+00]\n",
      " [9.09530869e+01 1.00003052e+00]\n",
      " [9.11389084e+01 1.09065747e+00]\n",
      " [7.11228256e+01 3.01987410e+00]\n",
      " [1.29233536e+02 1.24784863e+00]\n",
      " [6.67269135e+01 2.79106784e+00]\n",
      " [6.95351486e+01 2.86341667e+00]\n",
      " [9.10046539e+01 1.00133777e+00]\n",
      " [9.50489731e+01 2.89385986e+00]\n",
      " [1.25451927e+02 9.97556508e-01]\n",
      " [9.09493332e+01 1.00003052e+00]\n",
      " [9.35991287e+01 2.02963734e+00]\n",
      " [8.25590439e+01 3.08504176e+00]\n",
      " [9.17141876e+01 1.15804636e+00]\n",
      " [9.09998550e+01 1.00177026e+00]\n",
      " [5.86801033e+01 1.93068111e+00]\n",
      " [9.10208969e+01 9.93222952e-01]\n",
      " [9.10057526e+01 1.00003052e+00]\n",
      " [9.71863403e+01 2.72858977e+00]\n",
      " [1.97870377e+02 1.77101421e+00]\n",
      " [9.10206451e+01 9.94962811e-01]\n",
      " [1.00984856e+02 1.52310777e+00]\n",
      " [9.09530869e+01 1.00019348e+00]\n",
      " [7.30402527e+01 2.94831967e+00]\n",
      " [6.52403107e+01 2.91763902e+00]\n",
      " [9.09631348e+01 9.99598086e-01]\n",
      " [9.09631348e+01 9.99598086e-01]\n",
      " [1.54816315e+02 1.02386177e+00]\n",
      " [9.09493332e+01 1.00003052e+00]\n",
      " [9.09631348e+01 9.99598086e-01]\n",
      " [9.09530869e+01 1.00003052e+00]\n",
      " [7.79207230e+01 2.95283127e+00]\n",
      " [9.14805603e+01 2.76423287e+00]\n",
      " [9.10250931e+01 9.99694765e-01]\n",
      " [9.10208969e+01 9.92724240e-01]\n",
      " [9.10046539e+01 1.00133777e+00]\n",
      " [1.86905823e+02 1.62848425e+00]\n",
      " [1.97129456e+02 1.70226896e+00]\n",
      " [9.10208969e+01 9.92724240e-01]\n",
      " [9.09998550e+01 1.00177026e+00]\n",
      " [9.10057526e+01 1.00003052e+00]\n",
      " [4.93864288e+01 1.00830913e+00]\n",
      " [8.42631912e+01 2.27704835e+00]\n",
      " [9.10250931e+01 9.99761045e-01]\n",
      " [9.09493332e+01 1.00003052e+00]\n",
      " [9.09530869e+01 9.99531806e-01]\n",
      " [9.10432816e+01 9.73726571e-01]\n",
      " [8.72821732e+01 2.12449241e+00]\n",
      " [9.09921036e+01 9.93222952e-01]\n",
      " [9.09530869e+01 1.00003052e+00]\n",
      " [9.83688354e+01 2.51191044e+00]\n",
      " [9.10063324e+01 9.99598086e-01]\n",
      " [9.09921036e+01 9.93222952e-01]\n",
      " [9.14781570e+01 9.76098478e-01]\n",
      " [8.48681870e+01 3.38375735e+00]\n",
      " [9.09530869e+01 9.99531806e-01]\n",
      " [1.07219757e+02 1.59125662e+00]\n",
      " [9.09530869e+01 1.00019348e+00]\n",
      " [9.09998550e+01 1.00177026e+00]\n",
      " [5.41342201e+01 2.98479033e+00]\n",
      " [9.09493332e+01 1.00003052e+00]\n",
      " [9.09530869e+01 1.00019348e+00]\n",
      " [9.09668884e+01 9.99598086e-01]\n",
      " [9.09668884e+01 9.99761045e-01]\n",
      " [9.09668884e+01 9.99761045e-01]\n",
      " [1.70362946e+02 1.56799030e+00]\n",
      " [7.53022537e+01 2.95512176e+00]\n",
      " [9.09631348e+01 1.00133777e+00]\n",
      " [8.84335175e+01 2.89437866e+00]\n",
      " [2.20656769e+02 1.40552008e+00]\n",
      " [1.09692749e+02 1.02005017e+00]\n",
      " [9.09493332e+01 1.00003052e+00]\n",
      " [9.09668884e+01 9.99761045e-01]\n",
      " [9.09530869e+01 1.00019348e+00]\n",
      " [9.09530869e+01 9.99694765e-01]\n",
      " [9.12035294e+01 1.01633346e+00]\n",
      " [9.10628586e+01 1.00133777e+00]\n",
      " [1.70469559e+02 9.72826183e-01]\n",
      " [6.29575958e+01 2.92719150e+00]\n",
      " [9.09998550e+01 1.00177026e+00]\n",
      " [9.10057526e+01 1.00003052e+00]\n",
      " [9.10057526e+01 1.00003052e+00]\n",
      " [9.10057526e+01 1.00003052e+00]\n",
      " [9.09530869e+01 1.00003052e+00]\n",
      " [6.28171005e+01 3.01294088e+00]\n",
      " [9.09493332e+01 1.00003052e+00]\n",
      " [6.68418427e+01 2.96372008e+00]\n",
      " [5.87808685e+01 2.61666155e+00]\n",
      " [9.09631348e+01 9.99598086e-01]\n",
      " [9.10628586e+01 1.00127149e+00]\n",
      " [9.10046539e+01 1.00133777e+00]\n",
      " [2.07568924e+02 1.23608041e+00]\n",
      " [9.09493332e+01 1.00003052e+00]\n",
      " [9.70826035e+01 2.84740400e+00]\n",
      " [6.16472664e+01 3.23377585e+00]\n",
      " [9.10922012e+01 9.92790520e-01]\n",
      " [9.10250931e+01 9.99761045e-01]\n",
      " [9.09631348e+01 9.99598086e-01]\n",
      " [6.16776009e+01 2.93601179e+00]\n",
      " [1.79682236e+02 1.13072443e+00]\n",
      " [1.36983475e+02 9.64691818e-01]\n",
      " [8.00659409e+01 2.94973588e+00]\n",
      " [9.12726746e+01 9.95056272e-01]\n",
      " [7.11757126e+01 2.88409829e+00]\n",
      " [9.09668884e+01 9.99598086e-01]\n",
      " [9.10628586e+01 1.00127149e+00]\n",
      " [2.88502838e+02 2.50768113e+00]\n",
      " [9.09493332e+01 1.00003052e+00]\n",
      " [9.09631348e+01 9.99598086e-01]\n",
      " [2.25339035e+02 1.20906293e+00]\n",
      " [1.21251633e+02 1.15571642e+00]\n",
      " [9.12144699e+01 9.95056272e-01]\n",
      " [9.09668884e+01 9.99761045e-01]\n",
      " [9.09530869e+01 1.00019348e+00]\n",
      " [9.09530869e+01 1.00019348e+00]\n",
      " [6.02171135e+01 2.99929833e+00]\n",
      " [9.09493332e+01 1.00003052e+00]\n",
      " [9.10208969e+01 9.93222952e-01]\n",
      " [8.40013885e+01 2.92070627e+00]\n",
      " [9.04363403e+01 2.88532352e+00]\n",
      " [2.22817368e+02 1.65687311e+00]\n",
      " [1.02855606e+02 2.14366055e+00]\n",
      " [9.09668884e+01 9.99761045e-01]\n",
      " [9.09668884e+01 9.99598086e-01]\n",
      " [9.09493332e+01 9.99531806e-01]\n",
      " [9.09530869e+01 9.99694765e-01]\n",
      " [9.09493332e+01 1.00003052e+00]\n",
      " [1.42637482e+02 9.81043756e-01]\n",
      " [9.09631348e+01 9.99598086e-01]\n",
      " [9.09530869e+01 1.00019348e+00]\n",
      " [9.09530869e+01 1.00019348e+00]\n",
      " [7.98267822e+01 2.92828369e+00]\n",
      " [6.66302795e+01 2.98613453e+00]\n",
      " [5.34041023e+01 2.75184774e+00]\n",
      " [9.09493332e+01 1.00003052e+00]\n",
      " [9.09530869e+01 1.00019348e+00]\n",
      " [9.12204514e+01 1.13086569e+00]\n",
      " [9.01289978e+01 1.20712435e+00]\n",
      " [9.10063324e+01 9.99598086e-01]\n",
      " [9.10057526e+01 1.00003052e+00]\n",
      " [9.09530869e+01 1.00019348e+00]\n",
      " [1.31096390e+02 9.79323506e-01]\n",
      " [9.67437973e+01 1.64481032e+00]\n",
      " [1.13000748e+02 9.66880441e-01]\n",
      " [9.09530869e+01 9.99694765e-01]\n",
      " [9.10206451e+01 9.94962811e-01]\n",
      " [9.09668884e+01 9.99761045e-01]\n",
      " [9.11324234e+01 9.92790520e-01]\n",
      " [6.51604080e+01 2.96403480e+00]\n",
      " [9.09668884e+01 9.99761045e-01]\n",
      " [9.24993286e+01 2.98577547e+00]\n",
      " [9.09668884e+01 9.99761045e-01]\n",
      " [9.09668884e+01 9.99761045e-01]\n",
      " [1.48674652e+02 1.00062227e+00]\n",
      " [9.10208969e+01 9.93222952e-01]\n",
      " [9.08986588e+01 9.91704226e-01]\n",
      " [9.09631348e+01 9.99598086e-01]\n",
      " [6.64120865e+01 3.00517702e+00]\n",
      " [9.09668884e+01 1.00150073e+00]\n",
      " [9.09493332e+01 1.00003052e+00]\n",
      " [9.09530869e+01 1.00019348e+00]\n",
      " [9.11324234e+01 9.92790520e-01]\n",
      " [8.76155396e+01 2.83947110e+00]\n",
      " [9.10250931e+01 9.99761045e-01]\n",
      " [2.48795364e+02 1.90038192e+00]\n",
      " [9.09530869e+01 1.00003052e+00]\n",
      " [9.09631348e+01 9.99598086e-01]\n",
      " [9.13430023e+01 9.76098478e-01]\n",
      " [9.09530869e+01 1.00003052e+00]\n",
      " [7.35878601e+01 2.99524665e+00]\n",
      " [9.11324234e+01 9.92790520e-01]\n",
      " [9.12109146e+01 9.97866809e-01]\n",
      " [5.63125229e+01 2.97015047e+00]\n",
      " [9.10538406e+01 9.95056272e-01]\n",
      " [5.68970032e+01 2.97573137e+00]\n",
      " [9.10250931e+01 9.99761045e-01]\n",
      " [1.00427071e+02 1.70857644e+00]\n",
      " [9.09493332e+01 1.00003052e+00]\n",
      " [6.51849747e+01 3.02303505e+00]\n",
      " [6.48039932e+01 3.01695538e+00]\n",
      " [9.10432816e+01 9.73726571e-01]\n",
      " [9.10046539e+01 1.00133777e+00]\n",
      " [9.08181610e+01 1.08662331e+00]\n",
      " [9.09530869e+01 1.00019348e+00]\n",
      " [9.11863556e+01 9.21785772e-01]\n",
      " [9.10046539e+01 1.00133777e+00]\n",
      " [9.09530869e+01 1.00193322e+00]\n",
      " [9.09530869e+01 1.00003052e+00]\n",
      " [7.93159256e+01 2.56136417e+00]\n",
      " [1.49534042e+02 1.50209200e+00]\n",
      " [9.09493332e+01 1.00003052e+00]\n",
      " [9.10046539e+01 1.00133777e+00]\n",
      " [9.09921036e+01 9.92724240e-01]\n",
      " [6.77292023e+01 3.13531280e+00]\n",
      " [9.09530869e+01 1.00019348e+00]\n",
      " [9.09631348e+01 9.99598086e-01]\n",
      " [1.17768135e+02 9.97133434e-01]\n",
      " [9.09530869e+01 1.00019348e+00]\n",
      " [9.37900696e+01 1.06268311e+00]\n",
      " [9.10250931e+01 1.00150073e+00]\n",
      " [9.16012344e+01 2.85207129e+00]\n",
      " [1.22508804e+02 1.15804636e+00]\n",
      " [9.09668884e+01 9.99761045e-01]\n",
      " [9.09668884e+01 9.99761045e-01]\n",
      " [9.09668884e+01 9.99761045e-01]\n",
      " [9.10250931e+01 9.99761045e-01]\n",
      " [1.22508804e+02 1.15804636e+00]\n",
      " [9.09668884e+01 9.99761045e-01]\n",
      " [9.12109146e+01 1.11394966e+00]\n",
      " [1.34014603e+02 1.08521163e+00]\n",
      " [8.30906525e+01 2.99729180e+00]\n",
      " [1.30712433e+02 1.09518254e+00]\n",
      " [9.09668884e+01 9.99761045e-01]\n",
      " [1.32499161e+02 1.07028234e+00]\n",
      " [9.09530869e+01 1.00003052e+00]\n",
      " [1.03602394e+02 2.39659333e+00]\n",
      " [9.54693832e+01 2.75317979e+00]\n",
      " [1.05732353e+02 1.26907074e+00]\n",
      " [9.66902466e+01 2.31441164e+00]\n",
      " [9.09530869e+01 1.00019348e+00]\n",
      " [9.09530869e+01 1.00003052e+00]\n",
      " [9.10250931e+01 9.99598086e-01]\n",
      " [9.10046539e+01 1.00133777e+00]\n",
      " [6.42313309e+01 3.03360009e+00]\n",
      " [9.09668884e+01 9.99761045e-01]\n",
      " [7.23122635e+01 2.96823239e+00]\n",
      " [9.09921036e+01 9.93222952e-01]\n",
      " [6.69082108e+01 2.80489492e+00]\n",
      " [7.73634109e+01 3.15401411e+00]\n",
      " [8.21757812e+01 3.02948737e+00]\n",
      " [9.09921036e+01 9.94962811e-01]\n",
      " [9.11324234e+01 9.92790520e-01]\n",
      " [8.86805496e+01 2.60292840e+00]\n",
      " [6.22679214e+01 2.90361857e+00]\n",
      " [9.10057526e+01 1.00003052e+00]\n",
      " [9.14263687e+01 1.01633346e+00]\n",
      " [9.09493332e+01 1.00003052e+00]\n",
      " [9.10208969e+01 9.93222952e-01]\n",
      " [1.57875839e+02 9.92188990e-01]\n",
      " [9.29263458e+01 1.14469850e+00]\n",
      " [9.10046539e+01 1.00133777e+00]\n",
      " [9.09493332e+01 1.00003052e+00]\n",
      " [9.10208969e+01 9.93222952e-01]\n",
      " [6.30330505e+01 2.97289205e+00]\n",
      " [8.05420074e+01 2.58082962e+00]\n",
      " [1.33776840e+02 2.39006233e+00]\n",
      " [5.66853409e+01 1.82510769e+00]\n",
      " [1.80034210e+02 1.15780222e+00]\n",
      " [9.11389084e+01 1.11157775e+00]\n",
      " [9.09668884e+01 9.99598086e-01]\n",
      " [9.17626801e+01 9.76098478e-01]\n",
      " [9.10922012e+01 9.92790520e-01]\n",
      " [6.14667625e+01 3.02763343e+00]\n",
      " [9.09530869e+01 1.00003052e+00]\n",
      " [9.09530869e+01 1.00019348e+00]\n",
      " [8.49545822e+01 2.97618866e+00]\n",
      " [9.92829437e+01 2.42119694e+00]\n",
      " [9.09530869e+01 1.00019348e+00]\n",
      " [1.00308525e+02 1.85829163e+00]\n",
      " [9.09921036e+01 9.94962811e-01]\n",
      " [9.10046539e+01 1.00133777e+00]\n",
      " [9.09493332e+01 1.00003052e+00]\n",
      " [9.09493332e+01 1.00003052e+00]\n",
      " [9.09530869e+01 1.00003052e+00]\n",
      " [5.51832809e+01 3.02737594e+00]\n",
      " [7.10422211e+01 2.98896623e+00]\n",
      " [9.10628586e+01 1.00133777e+00]\n",
      " [7.91916275e+01 2.37023282e+00]\n",
      " [9.09631348e+01 9.99598086e-01]\n",
      " [8.23290634e+01 2.66818953e+00]\n",
      " [1.43010727e+02 9.60791409e-01]\n",
      " [9.09530869e+01 1.00019348e+00]\n",
      " [7.83112183e+01 3.01364517e+00]\n",
      " [8.36812744e+01 2.80810285e+00]\n",
      " [9.10208969e+01 9.93222952e-01]\n",
      " [9.09668884e+01 9.99761045e-01]\n",
      " [9.09668884e+01 9.99761045e-01]\n",
      " [1.65171188e+02 1.17819560e+00]\n",
      " [9.10208969e+01 9.93222952e-01]\n",
      " [9.09921036e+01 9.94962811e-01]\n",
      " [9.09530869e+01 1.00003052e+00]\n",
      " [9.09530869e+01 1.00019348e+00]\n",
      " [5.93383675e+01 2.98213863e+00]\n",
      " [1.40278458e+02 1.11632180e+00]\n",
      " [9.09668884e+01 9.99761045e-01]\n",
      " [9.09668884e+01 9.99761045e-01]\n",
      " [1.77863678e+02 1.14212751e+00]\n",
      " [9.86183243e+01 1.70925546e+00]\n",
      " [1.50221359e+02 1.00525105e+00]\n",
      " [8.84538803e+01 2.97536731e+00]\n",
      " [5.97915764e+01 2.62393236e+00]\n",
      " [9.09631348e+01 9.99598086e-01]\n",
      " [9.08986588e+01 9.91704226e-01]\n",
      " [8.60415955e+01 2.96182466e+00]\n",
      " [9.10922012e+01 9.92790520e-01]\n",
      " [8.75412445e+01 1.67736328e+00]]\n"
     ]
    }
   ],
   "source": [
    "print(y_pred)"
   ]
  },
  {
   "cell_type": "code",
   "execution_count": 210,
   "metadata": {},
   "outputs": [
    {
     "data": {
      "text/plain": [
       "Index(['City', 'PM2.5', 'PM10', 'NO', 'NO2', 'NOx', 'CO', 'SO2', 'O3',\n",
       "       'Benzene', 'Toluene', 'Xylene', 'AQI', 'AQI_Bucket', 'Year', 'Month',\n",
       "       'Day'],\n",
       "      dtype='object')"
      ]
     },
     "execution_count": 210,
     "metadata": {},
     "output_type": "execute_result"
    }
   ],
   "source": [
    "mumbai.columns"
   ]
  },
  {
   "cell_type": "code",
   "execution_count": 211,
   "metadata": {},
   "outputs": [],
   "source": [
    "import pickle\n",
    "\n",
    "import pickle\n",
    "\n",
    "# Assuming 'model' is your trained model and 'encoder' is the data encoder\n",
    "with open('model.pkl', 'wb') as f:\n",
    "    pickle.dump(model, f)\n",
    "\n",
    "with open('encoder.pkl', 'wb') as f:\n",
    "    pickle.dump(Label, f)\n"
   ]
  },
  {
   "cell_type": "code",
   "execution_count": 212,
   "metadata": {},
   "outputs": [
    {
     "data": {
      "text/plain": [
       "City            int32\n",
       "PM2.5         float64\n",
       "PM10          float64\n",
       "NO            float64\n",
       "NO2           float64\n",
       "NOx           float64\n",
       "CO            float64\n",
       "SO2           float64\n",
       "O3            float64\n",
       "Benzene       float64\n",
       "Toluene       float64\n",
       "Xylene        float64\n",
       "AQI           float64\n",
       "AQI_Bucket      int32\n",
       "Year            int32\n",
       "Month           int32\n",
       "Day             int32\n",
       "dtype: object"
      ]
     },
     "execution_count": 212,
     "metadata": {},
     "output_type": "execute_result"
    }
   ],
   "source": [
    "mumbai.dtypes"
   ]
  },
  {
   "cell_type": "code",
   "execution_count": null,
   "metadata": {},
   "outputs": [],
   "source": []
  }
 ],
 "metadata": {
  "kernelspec": {
   "display_name": "Python 3",
   "language": "python",
   "name": "python3"
  },
  "language_info": {
   "codemirror_mode": {
    "name": "ipython",
    "version": 3
   },
   "file_extension": ".py",
   "mimetype": "text/x-python",
   "name": "python",
   "nbconvert_exporter": "python",
   "pygments_lexer": "ipython3",
   "version": "3.12.1"
  }
 },
 "nbformat": 4,
 "nbformat_minor": 2
}
